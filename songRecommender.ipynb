{
 "cells": [
  {
   "cell_type": "code",
   "execution_count": 1,
   "id": "2543daee",
   "metadata": {},
   "outputs": [],
   "source": [
    "import spotipy\n",
    "from spotipy.oauth2 import SpotifyClientCredentials\n",
    "from random import randint\n",
    "import random\n",
    "from time import sleep\n",
    "from pandas import json_normalize\n",
    "import pandas as pd\n",
    "import pickle\n",
    "import ast\n",
    "from sklearn.preprocessing import StandardScaler"
   ]
  },
  {
   "cell_type": "markdown",
   "id": "e28495e5",
   "metadata": {},
   "source": [
    "#### Import 100 hot songs"
   ]
  },
  {
   "cell_type": "code",
   "execution_count": 2,
   "id": "b145ae81",
   "metadata": {},
   "outputs": [],
   "source": [
    "hot100songs = pd.read_csv('100songs.csv')"
   ]
  },
  {
   "cell_type": "markdown",
   "id": "4a516f96",
   "metadata": {},
   "source": [
    "#### Import clustered song collection"
   ]
  },
  {
   "cell_type": "code",
   "execution_count": 3,
   "id": "1be2d06c",
   "metadata": {},
   "outputs": [],
   "source": [
    "clustered_songs = pd.read_csv('clustered_songs.csv')"
   ]
  },
  {
   "cell_type": "markdown",
   "id": "28579416",
   "metadata": {},
   "source": [
    "#### Load kmeans model"
   ]
  },
  {
   "cell_type": "code",
   "execution_count": 4,
   "id": "9685c6a6",
   "metadata": {},
   "outputs": [],
   "source": [
    "kmeans = pickle.load(open('kmeans_model.sav', 'rb'))"
   ]
  },
  {
   "cell_type": "markdown",
   "id": "383f19ad",
   "metadata": {},
   "source": [
    "#### Load Scaler"
   ]
  },
  {
   "cell_type": "code",
   "execution_count": 5,
   "id": "d4d9b864",
   "metadata": {},
   "outputs": [],
   "source": [
    "scaler = pickle.load(open('standard_scaler.sav', 'rb'))"
   ]
  },
  {
   "cell_type": "markdown",
   "id": "608de159",
   "metadata": {},
   "source": [
    "#### Connection to Spotify API"
   ]
  },
  {
   "cell_type": "code",
   "execution_count": 6,
   "id": "529676e3",
   "metadata": {},
   "outputs": [],
   "source": [
    "secrets_file = open(\"C:/Users/lisab/OneDrive/Desktop/DA_labs/Week_6/Spotify_API.txt\")"
   ]
  },
  {
   "cell_type": "code",
   "execution_count": 7,
   "id": "b051f38e",
   "metadata": {},
   "outputs": [],
   "source": [
    "string = secrets_file.read()"
   ]
  },
  {
   "cell_type": "code",
   "execution_count": 8,
   "id": "10f9c873",
   "metadata": {},
   "outputs": [],
   "source": [
    "secrets_dict={}\n",
    "for line in string.split('\\n'):\n",
    "    if len(line) > 0:\n",
    "        secrets_dict[line.split(':')[0]]=line.split(':')[1].strip()"
   ]
  },
  {
   "cell_type": "code",
   "execution_count": 9,
   "id": "ac086fb7",
   "metadata": {},
   "outputs": [],
   "source": [
    "#Initialize SpotiPy with user credentials\n",
    "sp = spotipy.Spotify(auth_manager=SpotifyClientCredentials(client_id=secrets_dict['Client ID'],\n",
    "                                                           client_secret=secrets_dict['Client Secret']))"
   ]
  },
  {
   "cell_type": "code",
   "execution_count": 22,
   "id": "1da0366f",
   "metadata": {},
   "outputs": [],
   "source": [
    "def getArtists(artist_list):\n",
    "    #convert string containing list to list\n",
    "    artist_list = ast.literal_eval(artist_list)\n",
    "    if len(artist_list) > 1:\n",
    "        artists = '0'\n",
    "        for artist in artist_list:\n",
    "            artists = artists+', '+artist\n",
    "            artists = artists.replace('0', '')\n",
    "    else:\n",
    "        artists = artist_list[0]\n",
    "    return artists"
   ]
  },
  {
   "cell_type": "markdown",
   "id": "39187e01",
   "metadata": {},
   "source": [
    "#### SongRecommender Function"
   ]
  },
  {
   "cell_type": "code",
   "execution_count": 32,
   "id": "fe969964",
   "metadata": {},
   "outputs": [],
   "source": [
    "def checkSongAndRecommend():\n",
    "    song_input = input(\"Enter your favorite song: \")\n",
    "    artist_input = input(\"Enter the artist: \")\n",
    "    \n",
    "    #lowercase song input and hot100songs title column\n",
    "    song_input_lower = song_input.lower()\n",
    "    hot100songs['title_lower'] = hot100songs['title'].str.lower()\n",
    "    \n",
    "    #Checking if song title is in top100\n",
    "    if len(hot100songs[hot100songs.title_lower.str.contains(song_input_lower)]) > 0:\n",
    "        random_song = hot100songs['title'][random.randint(0, len(hot100songs)-1)]\n",
    "        random_artist = hot100songs.loc[hot100songs.title == random_song, 'artists'].values[0]\n",
    "        \n",
    "        return 'Look at this new hot song: '+random_song+' from '+random_artist\n",
    "    \n",
    "    #If song is not in top100 list:\n",
    "    else:\n",
    "        #Search uri for input song on spotify\n",
    "        #song_spotify = sp.search(q=song_input, limit=1)\n",
    "        song_spotify = sp.search(q=song_input+' '+artist_input, limit=1)\n",
    "        song_uri = song_spotify['tracks']['items'][0]['uri']\n",
    "        \n",
    "        #Collect audio features for input song\n",
    "        song_audio_features = sp.audio_features(song_uri)\n",
    "        audio_feat_df = pd.DataFrame(song_audio_features)\n",
    "        audio_feat_df_corr = audio_feat_df[['danceability', 'energy', 'key', 'loudness', 'mode', 'speechiness', 'acousticness', \n",
    "                          'instrumentalness', 'liveness', 'valence', 'tempo', 'duration_ms']].copy()\n",
    "        \n",
    "        #Scale audio feature columns\n",
    "        audio_feat_df_corr_prep = scaler.transform(audio_feat_df_corr)\n",
    "        \n",
    "        # Predicting / assigning the clusters:\n",
    "        clusters = kmeans.predict(audio_feat_df_corr_prep)\n",
    "        \n",
    "        #take clustered_songs dataframe and search for a song & artist with the same number as clusters result\n",
    "        clustered_songs_input_cluster = clustered_songs[clustered_songs['cluster'] == clusters[0]].reset_index()\n",
    "        random_song_output = clustered_songs_input_cluster['title'][random.randint(0, len(clustered_songs_input_cluster['title'])-1)]\n",
    "        random_artist_output = clustered_songs_input_cluster.loc[clustered_songs_input_cluster.title == random_song_output, \n",
    "                                'artists'].values[0]\n",
    "        random_artist_output = getArtists(random_artist_output)\n",
    "        \n",
    "        return 'Found a similar song: '+random_song_output+' from '+random_artist_output"
   ]
  },
  {
   "cell_type": "markdown",
   "id": "26b3ee90",
   "metadata": {},
   "source": [
    "#### Test the complete function"
   ]
  },
  {
   "cell_type": "code",
   "execution_count": 33,
   "id": "f71737c8",
   "metadata": {},
   "outputs": [
    {
     "name": "stdout",
     "output_type": "stream",
     "text": [
      "Enter your favorite song: Party in the USA\n",
      "Enter the artist: Miley Cyrus\n"
     ]
    },
    {
     "data": {
      "text/plain": [
       "'Found a similar song: Break the Ice from Britney Spears'"
      ]
     },
     "execution_count": 33,
     "metadata": {},
     "output_type": "execute_result"
    }
   ],
   "source": [
    "checkSongAndRecommend()"
   ]
  },
  {
   "cell_type": "code",
   "execution_count": null,
   "id": "2a561aad",
   "metadata": {},
   "outputs": [],
   "source": []
  }
 ],
 "metadata": {
  "kernelspec": {
   "display_name": "Python 3 (ipykernel)",
   "language": "python",
   "name": "python3"
  },
  "language_info": {
   "codemirror_mode": {
    "name": "ipython",
    "version": 3
   },
   "file_extension": ".py",
   "mimetype": "text/x-python",
   "name": "python",
   "nbconvert_exporter": "python",
   "pygments_lexer": "ipython3",
   "version": "3.9.13"
  }
 },
 "nbformat": 4,
 "nbformat_minor": 5
}
