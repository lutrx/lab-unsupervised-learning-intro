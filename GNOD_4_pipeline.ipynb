{
 "cells": [
  {
   "cell_type": "code",
   "execution_count": 1,
   "id": "2543daee",
   "metadata": {},
   "outputs": [],
   "source": [
    "import spotipy\n",
    "from spotipy.oauth2 import SpotifyClientCredentials\n",
    "from random import randint\n",
    "import random\n",
    "from time import sleep\n",
    "from pandas import json_normalize\n",
    "import pandas as pd\n",
    "import pickle\n",
    "import ast\n",
    "from sklearn.preprocessing import StandardScaler"
   ]
  },
  {
   "cell_type": "markdown",
   "id": "e28495e5",
   "metadata": {},
   "source": [
    "#### Import 100 hot songs"
   ]
  },
  {
   "cell_type": "code",
   "execution_count": 2,
   "id": "b145ae81",
   "metadata": {},
   "outputs": [
    {
     "data": {
      "text/html": [
       "<div>\n",
       "<style scoped>\n",
       "    .dataframe tbody tr th:only-of-type {\n",
       "        vertical-align: middle;\n",
       "    }\n",
       "\n",
       "    .dataframe tbody tr th {\n",
       "        vertical-align: top;\n",
       "    }\n",
       "\n",
       "    .dataframe thead th {\n",
       "        text-align: right;\n",
       "    }\n",
       "</style>\n",
       "<table border=\"1\" class=\"dataframe\">\n",
       "  <thead>\n",
       "    <tr style=\"text-align: right;\">\n",
       "      <th></th>\n",
       "      <th>title</th>\n",
       "      <th>artists</th>\n",
       "    </tr>\n",
       "  </thead>\n",
       "  <tbody>\n",
       "    <tr>\n",
       "      <th>0</th>\n",
       "      <td>Flowers</td>\n",
       "      <td>Miley Cyrus</td>\n",
       "    </tr>\n",
       "    <tr>\n",
       "      <th>1</th>\n",
       "      <td>Last Night</td>\n",
       "      <td>Morgan Wallen</td>\n",
       "    </tr>\n",
       "    <tr>\n",
       "      <th>2</th>\n",
       "      <td>Fast Car</td>\n",
       "      <td>Luke Combs</td>\n",
       "    </tr>\n",
       "    <tr>\n",
       "      <th>3</th>\n",
       "      <td>Like Crazy (Deep House Remix)</td>\n",
       "      <td>Jimin</td>\n",
       "    </tr>\n",
       "    <tr>\n",
       "      <th>4</th>\n",
       "      <td>Like Crazy (UK Garage Remix)</td>\n",
       "      <td>Jimin</td>\n",
       "    </tr>\n",
       "    <tr>\n",
       "      <th>...</th>\n",
       "      <td>...</td>\n",
       "      <td>...</td>\n",
       "    </tr>\n",
       "    <tr>\n",
       "      <th>95</th>\n",
       "      <td>Going, Going, Gone</td>\n",
       "      <td>Luke Combs</td>\n",
       "    </tr>\n",
       "    <tr>\n",
       "      <th>96</th>\n",
       "      <td>Calm Down</td>\n",
       "      <td>Rema</td>\n",
       "    </tr>\n",
       "    <tr>\n",
       "      <th>97</th>\n",
       "      <td>Heart Attack (Rock Version)</td>\n",
       "      <td>Demi Lovato</td>\n",
       "    </tr>\n",
       "    <tr>\n",
       "      <th>98</th>\n",
       "      <td>Tennessee Orange</td>\n",
       "      <td>Megan Moroney</td>\n",
       "    </tr>\n",
       "    <tr>\n",
       "      <th>99</th>\n",
       "      <td>Let Me Down Easy</td>\n",
       "      <td>Daisy Jones &amp; The Six</td>\n",
       "    </tr>\n",
       "  </tbody>\n",
       "</table>\n",
       "<p>100 rows × 2 columns</p>\n",
       "</div>"
      ],
      "text/plain": [
       "                            title                artists\n",
       "0                         Flowers            Miley Cyrus\n",
       "1                      Last Night          Morgan Wallen\n",
       "2                        Fast Car             Luke Combs\n",
       "3   Like Crazy (Deep House Remix)                  Jimin\n",
       "4    Like Crazy (UK Garage Remix)                  Jimin\n",
       "..                            ...                    ...\n",
       "95             Going, Going, Gone             Luke Combs\n",
       "96                      Calm Down                   Rema\n",
       "97    Heart Attack (Rock Version)            Demi Lovato\n",
       "98               Tennessee Orange          Megan Moroney\n",
       "99               Let Me Down Easy  Daisy Jones & The Six\n",
       "\n",
       "[100 rows x 2 columns]"
      ]
     },
     "execution_count": 2,
     "metadata": {},
     "output_type": "execute_result"
    }
   ],
   "source": [
    "hot100songs = pd.read_csv('100songs.csv')\n",
    "hot100songs"
   ]
  },
  {
   "cell_type": "markdown",
   "id": "4a516f96",
   "metadata": {},
   "source": [
    "#### Import clustered song collection"
   ]
  },
  {
   "cell_type": "code",
   "execution_count": 3,
   "id": "1be2d06c",
   "metadata": {},
   "outputs": [
    {
     "data": {
      "text/html": [
       "<div>\n",
       "<style scoped>\n",
       "    .dataframe tbody tr th:only-of-type {\n",
       "        vertical-align: middle;\n",
       "    }\n",
       "\n",
       "    .dataframe tbody tr th {\n",
       "        vertical-align: top;\n",
       "    }\n",
       "\n",
       "    .dataframe thead th {\n",
       "        text-align: right;\n",
       "    }\n",
       "</style>\n",
       "<table border=\"1\" class=\"dataframe\">\n",
       "  <thead>\n",
       "    <tr style=\"text-align: right;\">\n",
       "      <th></th>\n",
       "      <th>title</th>\n",
       "      <th>artists</th>\n",
       "      <th>uri</th>\n",
       "      <th>danceability</th>\n",
       "      <th>energy</th>\n",
       "      <th>key</th>\n",
       "      <th>loudness</th>\n",
       "      <th>mode</th>\n",
       "      <th>speechiness</th>\n",
       "      <th>acousticness</th>\n",
       "      <th>...</th>\n",
       "      <th>liveness</th>\n",
       "      <th>valence</th>\n",
       "      <th>tempo</th>\n",
       "      <th>type</th>\n",
       "      <th>id</th>\n",
       "      <th>track_href</th>\n",
       "      <th>analysis_url</th>\n",
       "      <th>duration_ms</th>\n",
       "      <th>time_signature</th>\n",
       "      <th>cluster</th>\n",
       "    </tr>\n",
       "  </thead>\n",
       "  <tbody>\n",
       "    <tr>\n",
       "      <th>0</th>\n",
       "      <td>Take Me To Church</td>\n",
       "      <td>['Hozier']</td>\n",
       "      <td>spotify:track:7dS5EaCoMnN7DzlpT6aRn2</td>\n",
       "      <td>0.566</td>\n",
       "      <td>0.664</td>\n",
       "      <td>4</td>\n",
       "      <td>-5.303</td>\n",
       "      <td>0</td>\n",
       "      <td>0.0464</td>\n",
       "      <td>0.634000</td>\n",
       "      <td>...</td>\n",
       "      <td>0.1160</td>\n",
       "      <td>0.437</td>\n",
       "      <td>128.945</td>\n",
       "      <td>audio_features</td>\n",
       "      <td>7dS5EaCoMnN7DzlpT6aRn2</td>\n",
       "      <td>https://api.spotify.com/v1/tracks/7dS5EaCoMnN7...</td>\n",
       "      <td>https://api.spotify.com/v1/audio-analysis/7dS5...</td>\n",
       "      <td>241688</td>\n",
       "      <td>4</td>\n",
       "      <td>0</td>\n",
       "    </tr>\n",
       "    <tr>\n",
       "      <th>1</th>\n",
       "      <td>Cooler Than Me - Single Mix</td>\n",
       "      <td>['Mike Posner', 'Gigamesh']</td>\n",
       "      <td>spotify:track:2V4bv1fNWfTcyRJKmej6Sj</td>\n",
       "      <td>0.768</td>\n",
       "      <td>0.820</td>\n",
       "      <td>7</td>\n",
       "      <td>-4.630</td>\n",
       "      <td>0</td>\n",
       "      <td>0.0474</td>\n",
       "      <td>0.179000</td>\n",
       "      <td>...</td>\n",
       "      <td>0.6890</td>\n",
       "      <td>0.625</td>\n",
       "      <td>129.965</td>\n",
       "      <td>audio_features</td>\n",
       "      <td>2V4bv1fNWfTcyRJKmej6Sj</td>\n",
       "      <td>https://api.spotify.com/v1/tracks/2V4bv1fNWfTc...</td>\n",
       "      <td>https://api.spotify.com/v1/audio-analysis/2V4b...</td>\n",
       "      <td>213293</td>\n",
       "      <td>4</td>\n",
       "      <td>0</td>\n",
       "    </tr>\n",
       "    <tr>\n",
       "      <th>2</th>\n",
       "      <td>See You Again (feat. Kali Uchis)</td>\n",
       "      <td>['Tyler, The Creator', 'Kali Uchis']</td>\n",
       "      <td>spotify:track:7KA4W4McWYRpgf0fWsJZWB</td>\n",
       "      <td>0.558</td>\n",
       "      <td>0.559</td>\n",
       "      <td>6</td>\n",
       "      <td>-9.222</td>\n",
       "      <td>1</td>\n",
       "      <td>0.0959</td>\n",
       "      <td>0.371000</td>\n",
       "      <td>...</td>\n",
       "      <td>0.1090</td>\n",
       "      <td>0.620</td>\n",
       "      <td>78.558</td>\n",
       "      <td>audio_features</td>\n",
       "      <td>7KA4W4McWYRpgf0fWsJZWB</td>\n",
       "      <td>https://api.spotify.com/v1/tracks/7KA4W4McWYRp...</td>\n",
       "      <td>https://api.spotify.com/v1/audio-analysis/7KA4...</td>\n",
       "      <td>180387</td>\n",
       "      <td>4</td>\n",
       "      <td>1</td>\n",
       "    </tr>\n",
       "    <tr>\n",
       "      <th>3</th>\n",
       "      <td>Pompeii</td>\n",
       "      <td>['Bastille']</td>\n",
       "      <td>spotify:track:3gbBpTdY8lnQwqxNCcf795</td>\n",
       "      <td>0.679</td>\n",
       "      <td>0.715</td>\n",
       "      <td>9</td>\n",
       "      <td>-6.383</td>\n",
       "      <td>1</td>\n",
       "      <td>0.0407</td>\n",
       "      <td>0.075500</td>\n",
       "      <td>...</td>\n",
       "      <td>0.2710</td>\n",
       "      <td>0.571</td>\n",
       "      <td>127.435</td>\n",
       "      <td>audio_features</td>\n",
       "      <td>3gbBpTdY8lnQwqxNCcf795</td>\n",
       "      <td>https://api.spotify.com/v1/tracks/3gbBpTdY8lnQ...</td>\n",
       "      <td>https://api.spotify.com/v1/audio-analysis/3gbB...</td>\n",
       "      <td>214148</td>\n",
       "      <td>4</td>\n",
       "      <td>2</td>\n",
       "    </tr>\n",
       "    <tr>\n",
       "      <th>4</th>\n",
       "      <td>Hips Don't Lie (feat. Wyclef Jean)</td>\n",
       "      <td>['Shakira', 'Wyclef Jean']</td>\n",
       "      <td>spotify:track:3ZFTkvIE7kyPt6Nu3PEa7V</td>\n",
       "      <td>0.778</td>\n",
       "      <td>0.824</td>\n",
       "      <td>10</td>\n",
       "      <td>-5.892</td>\n",
       "      <td>0</td>\n",
       "      <td>0.0707</td>\n",
       "      <td>0.284000</td>\n",
       "      <td>...</td>\n",
       "      <td>0.4050</td>\n",
       "      <td>0.758</td>\n",
       "      <td>100.024</td>\n",
       "      <td>audio_features</td>\n",
       "      <td>3ZFTkvIE7kyPt6Nu3PEa7V</td>\n",
       "      <td>https://api.spotify.com/v1/tracks/3ZFTkvIE7kyP...</td>\n",
       "      <td>https://api.spotify.com/v1/audio-analysis/3ZFT...</td>\n",
       "      <td>218093</td>\n",
       "      <td>4</td>\n",
       "      <td>0</td>\n",
       "    </tr>\n",
       "    <tr>\n",
       "      <th>...</th>\n",
       "      <td>...</td>\n",
       "      <td>...</td>\n",
       "      <td>...</td>\n",
       "      <td>...</td>\n",
       "      <td>...</td>\n",
       "      <td>...</td>\n",
       "      <td>...</td>\n",
       "      <td>...</td>\n",
       "      <td>...</td>\n",
       "      <td>...</td>\n",
       "      <td>...</td>\n",
       "      <td>...</td>\n",
       "      <td>...</td>\n",
       "      <td>...</td>\n",
       "      <td>...</td>\n",
       "      <td>...</td>\n",
       "      <td>...</td>\n",
       "      <td>...</td>\n",
       "      <td>...</td>\n",
       "      <td>...</td>\n",
       "      <td>...</td>\n",
       "    </tr>\n",
       "    <tr>\n",
       "      <th>7982</th>\n",
       "      <td>Hot N Cold</td>\n",
       "      <td>['Katy Perry']</td>\n",
       "      <td>spotify:track:1ulXmqjktxSdrdT1bzc69H</td>\n",
       "      <td>0.706</td>\n",
       "      <td>0.841</td>\n",
       "      <td>7</td>\n",
       "      <td>-3.956</td>\n",
       "      <td>1</td>\n",
       "      <td>0.0418</td>\n",
       "      <td>0.000079</td>\n",
       "      <td>...</td>\n",
       "      <td>0.0688</td>\n",
       "      <td>0.861</td>\n",
       "      <td>132.032</td>\n",
       "      <td>audio_features</td>\n",
       "      <td>1ulXmqjktxSdrdT1bzc69H</td>\n",
       "      <td>https://api.spotify.com/v1/tracks/1ulXmqjktxSd...</td>\n",
       "      <td>https://api.spotify.com/v1/audio-analysis/1ulX...</td>\n",
       "      <td>220227</td>\n",
       "      <td>4</td>\n",
       "      <td>2</td>\n",
       "    </tr>\n",
       "    <tr>\n",
       "      <th>7983</th>\n",
       "      <td>What Lovers Do</td>\n",
       "      <td>['Maroon 5', 'SZA']</td>\n",
       "      <td>spotify:track:0ExtPzAWi4arQz6kaabm02</td>\n",
       "      <td>0.799</td>\n",
       "      <td>0.597</td>\n",
       "      <td>5</td>\n",
       "      <td>-5.131</td>\n",
       "      <td>0</td>\n",
       "      <td>0.0611</td>\n",
       "      <td>0.078800</td>\n",
       "      <td>...</td>\n",
       "      <td>0.1000</td>\n",
       "      <td>0.419</td>\n",
       "      <td>110.001</td>\n",
       "      <td>audio_features</td>\n",
       "      <td>0ExtPzAWi4arQz6kaabm02</td>\n",
       "      <td>https://api.spotify.com/v1/tracks/0ExtPzAWi4ar...</td>\n",
       "      <td>https://api.spotify.com/v1/audio-analysis/0Ext...</td>\n",
       "      <td>199849</td>\n",
       "      <td>4</td>\n",
       "      <td>0</td>\n",
       "    </tr>\n",
       "    <tr>\n",
       "      <th>7984</th>\n",
       "      <td>You Need To Calm Down - Clean Bandit Remix</td>\n",
       "      <td>['Taylor Swift', 'Clean Bandit']</td>\n",
       "      <td>spotify:track:7Bjf96uNizpvXLvNyOJpst</td>\n",
       "      <td>0.726</td>\n",
       "      <td>0.880</td>\n",
       "      <td>2</td>\n",
       "      <td>-4.137</td>\n",
       "      <td>1</td>\n",
       "      <td>0.0581</td>\n",
       "      <td>0.072000</td>\n",
       "      <td>...</td>\n",
       "      <td>0.0906</td>\n",
       "      <td>0.739</td>\n",
       "      <td>95.037</td>\n",
       "      <td>audio_features</td>\n",
       "      <td>7Bjf96uNizpvXLvNyOJpst</td>\n",
       "      <td>https://api.spotify.com/v1/tracks/7Bjf96uNizpv...</td>\n",
       "      <td>https://api.spotify.com/v1/audio-analysis/7Bjf...</td>\n",
       "      <td>152773</td>\n",
       "      <td>4</td>\n",
       "      <td>2</td>\n",
       "    </tr>\n",
       "    <tr>\n",
       "      <th>7985</th>\n",
       "      <td>Barracuda</td>\n",
       "      <td>['Heart']</td>\n",
       "      <td>spotify:track:4KfSdst7rW39C0sfhArdrz</td>\n",
       "      <td>0.548</td>\n",
       "      <td>0.691</td>\n",
       "      <td>4</td>\n",
       "      <td>-13.553</td>\n",
       "      <td>0</td>\n",
       "      <td>0.0369</td>\n",
       "      <td>0.015000</td>\n",
       "      <td>...</td>\n",
       "      <td>0.1440</td>\n",
       "      <td>0.667</td>\n",
       "      <td>137.145</td>\n",
       "      <td>audio_features</td>\n",
       "      <td>4KfSdst7rW39C0sfhArdrz</td>\n",
       "      <td>https://api.spotify.com/v1/tracks/4KfSdst7rW39...</td>\n",
       "      <td>https://api.spotify.com/v1/audio-analysis/4KfS...</td>\n",
       "      <td>261933</td>\n",
       "      <td>4</td>\n",
       "      <td>0</td>\n",
       "    </tr>\n",
       "    <tr>\n",
       "      <th>7986</th>\n",
       "      <td>About Damn Time</td>\n",
       "      <td>['Lizzo']</td>\n",
       "      <td>spotify:track:1PckUlxKqWQs3RlWXVBLw3</td>\n",
       "      <td>0.836</td>\n",
       "      <td>0.743</td>\n",
       "      <td>10</td>\n",
       "      <td>-6.305</td>\n",
       "      <td>0</td>\n",
       "      <td>0.0656</td>\n",
       "      <td>0.099500</td>\n",
       "      <td>...</td>\n",
       "      <td>0.3350</td>\n",
       "      <td>0.722</td>\n",
       "      <td>108.966</td>\n",
       "      <td>audio_features</td>\n",
       "      <td>1PckUlxKqWQs3RlWXVBLw3</td>\n",
       "      <td>https://api.spotify.com/v1/tracks/1PckUlxKqWQs...</td>\n",
       "      <td>https://api.spotify.com/v1/audio-analysis/1Pck...</td>\n",
       "      <td>191822</td>\n",
       "      <td>4</td>\n",
       "      <td>0</td>\n",
       "    </tr>\n",
       "  </tbody>\n",
       "</table>\n",
       "<p>7987 rows × 21 columns</p>\n",
       "</div>"
      ],
      "text/plain": [
       "                                           title  \\\n",
       "0                              Take Me To Church   \n",
       "1                    Cooler Than Me - Single Mix   \n",
       "2               See You Again (feat. Kali Uchis)   \n",
       "3                                        Pompeii   \n",
       "4             Hips Don't Lie (feat. Wyclef Jean)   \n",
       "...                                          ...   \n",
       "7982                                  Hot N Cold   \n",
       "7983                              What Lovers Do   \n",
       "7984  You Need To Calm Down - Clean Bandit Remix   \n",
       "7985                                   Barracuda   \n",
       "7986                             About Damn Time   \n",
       "\n",
       "                                   artists  \\\n",
       "0                               ['Hozier']   \n",
       "1              ['Mike Posner', 'Gigamesh']   \n",
       "2     ['Tyler, The Creator', 'Kali Uchis']   \n",
       "3                             ['Bastille']   \n",
       "4               ['Shakira', 'Wyclef Jean']   \n",
       "...                                    ...   \n",
       "7982                        ['Katy Perry']   \n",
       "7983                   ['Maroon 5', 'SZA']   \n",
       "7984      ['Taylor Swift', 'Clean Bandit']   \n",
       "7985                             ['Heart']   \n",
       "7986                             ['Lizzo']   \n",
       "\n",
       "                                       uri  danceability  energy  key  \\\n",
       "0     spotify:track:7dS5EaCoMnN7DzlpT6aRn2         0.566   0.664    4   \n",
       "1     spotify:track:2V4bv1fNWfTcyRJKmej6Sj         0.768   0.820    7   \n",
       "2     spotify:track:7KA4W4McWYRpgf0fWsJZWB         0.558   0.559    6   \n",
       "3     spotify:track:3gbBpTdY8lnQwqxNCcf795         0.679   0.715    9   \n",
       "4     spotify:track:3ZFTkvIE7kyPt6Nu3PEa7V         0.778   0.824   10   \n",
       "...                                    ...           ...     ...  ...   \n",
       "7982  spotify:track:1ulXmqjktxSdrdT1bzc69H         0.706   0.841    7   \n",
       "7983  spotify:track:0ExtPzAWi4arQz6kaabm02         0.799   0.597    5   \n",
       "7984  spotify:track:7Bjf96uNizpvXLvNyOJpst         0.726   0.880    2   \n",
       "7985  spotify:track:4KfSdst7rW39C0sfhArdrz         0.548   0.691    4   \n",
       "7986  spotify:track:1PckUlxKqWQs3RlWXVBLw3         0.836   0.743   10   \n",
       "\n",
       "      loudness  mode  speechiness  acousticness  ...  liveness  valence  \\\n",
       "0       -5.303     0       0.0464      0.634000  ...    0.1160    0.437   \n",
       "1       -4.630     0       0.0474      0.179000  ...    0.6890    0.625   \n",
       "2       -9.222     1       0.0959      0.371000  ...    0.1090    0.620   \n",
       "3       -6.383     1       0.0407      0.075500  ...    0.2710    0.571   \n",
       "4       -5.892     0       0.0707      0.284000  ...    0.4050    0.758   \n",
       "...        ...   ...          ...           ...  ...       ...      ...   \n",
       "7982    -3.956     1       0.0418      0.000079  ...    0.0688    0.861   \n",
       "7983    -5.131     0       0.0611      0.078800  ...    0.1000    0.419   \n",
       "7984    -4.137     1       0.0581      0.072000  ...    0.0906    0.739   \n",
       "7985   -13.553     0       0.0369      0.015000  ...    0.1440    0.667   \n",
       "7986    -6.305     0       0.0656      0.099500  ...    0.3350    0.722   \n",
       "\n",
       "        tempo            type                      id  \\\n",
       "0     128.945  audio_features  7dS5EaCoMnN7DzlpT6aRn2   \n",
       "1     129.965  audio_features  2V4bv1fNWfTcyRJKmej6Sj   \n",
       "2      78.558  audio_features  7KA4W4McWYRpgf0fWsJZWB   \n",
       "3     127.435  audio_features  3gbBpTdY8lnQwqxNCcf795   \n",
       "4     100.024  audio_features  3ZFTkvIE7kyPt6Nu3PEa7V   \n",
       "...       ...             ...                     ...   \n",
       "7982  132.032  audio_features  1ulXmqjktxSdrdT1bzc69H   \n",
       "7983  110.001  audio_features  0ExtPzAWi4arQz6kaabm02   \n",
       "7984   95.037  audio_features  7Bjf96uNizpvXLvNyOJpst   \n",
       "7985  137.145  audio_features  4KfSdst7rW39C0sfhArdrz   \n",
       "7986  108.966  audio_features  1PckUlxKqWQs3RlWXVBLw3   \n",
       "\n",
       "                                             track_href  \\\n",
       "0     https://api.spotify.com/v1/tracks/7dS5EaCoMnN7...   \n",
       "1     https://api.spotify.com/v1/tracks/2V4bv1fNWfTc...   \n",
       "2     https://api.spotify.com/v1/tracks/7KA4W4McWYRp...   \n",
       "3     https://api.spotify.com/v1/tracks/3gbBpTdY8lnQ...   \n",
       "4     https://api.spotify.com/v1/tracks/3ZFTkvIE7kyP...   \n",
       "...                                                 ...   \n",
       "7982  https://api.spotify.com/v1/tracks/1ulXmqjktxSd...   \n",
       "7983  https://api.spotify.com/v1/tracks/0ExtPzAWi4ar...   \n",
       "7984  https://api.spotify.com/v1/tracks/7Bjf96uNizpv...   \n",
       "7985  https://api.spotify.com/v1/tracks/4KfSdst7rW39...   \n",
       "7986  https://api.spotify.com/v1/tracks/1PckUlxKqWQs...   \n",
       "\n",
       "                                           analysis_url duration_ms  \\\n",
       "0     https://api.spotify.com/v1/audio-analysis/7dS5...      241688   \n",
       "1     https://api.spotify.com/v1/audio-analysis/2V4b...      213293   \n",
       "2     https://api.spotify.com/v1/audio-analysis/7KA4...      180387   \n",
       "3     https://api.spotify.com/v1/audio-analysis/3gbB...      214148   \n",
       "4     https://api.spotify.com/v1/audio-analysis/3ZFT...      218093   \n",
       "...                                                 ...         ...   \n",
       "7982  https://api.spotify.com/v1/audio-analysis/1ulX...      220227   \n",
       "7983  https://api.spotify.com/v1/audio-analysis/0Ext...      199849   \n",
       "7984  https://api.spotify.com/v1/audio-analysis/7Bjf...      152773   \n",
       "7985  https://api.spotify.com/v1/audio-analysis/4KfS...      261933   \n",
       "7986  https://api.spotify.com/v1/audio-analysis/1Pck...      191822   \n",
       "\n",
       "      time_signature  cluster  \n",
       "0                  4        0  \n",
       "1                  4        0  \n",
       "2                  4        1  \n",
       "3                  4        2  \n",
       "4                  4        0  \n",
       "...              ...      ...  \n",
       "7982               4        2  \n",
       "7983               4        0  \n",
       "7984               4        2  \n",
       "7985               4        0  \n",
       "7986               4        0  \n",
       "\n",
       "[7987 rows x 21 columns]"
      ]
     },
     "execution_count": 3,
     "metadata": {},
     "output_type": "execute_result"
    }
   ],
   "source": [
    "clustered_songs = pd.read_csv('clustered_songs.csv')\n",
    "clustered_songs"
   ]
  },
  {
   "cell_type": "markdown",
   "id": "80384a39",
   "metadata": {},
   "source": [
    "#### Function from part 2"
   ]
  },
  {
   "cell_type": "code",
   "execution_count": 31,
   "id": "833f81ef",
   "metadata": {},
   "outputs": [],
   "source": [
    "def SongRecommender1():\n",
    "    song_input = input(\"Enter your favorite song: \")\n",
    "    if song_input in hot100songs['title'].unique():\n",
    "        random_song = hot100songs['title'][random.randint(0, len(hot100songs)-1)]\n",
    "        random_artist = hot100songs.loc[hot100songs.title == random_song, 'artists'].values[0]\n",
    "        return 'Look at this new hot song: '+random_song+' from '+random_artist\n",
    "    else:\n",
    "        return 'Sorry, cannot give any recommendation. Try another one'"
   ]
  },
  {
   "cell_type": "code",
   "execution_count": 5,
   "id": "b6b3feed",
   "metadata": {},
   "outputs": [],
   "source": [
    "#Test it\n",
    "#SongRecommender1()"
   ]
  },
  {
   "cell_type": "markdown",
   "id": "28579416",
   "metadata": {},
   "source": [
    "#### Load kmeans model"
   ]
  },
  {
   "cell_type": "code",
   "execution_count": 6,
   "id": "9685c6a6",
   "metadata": {},
   "outputs": [
    {
     "name": "stdout",
     "output_type": "stream",
     "text": [
      "KMeans(n_clusters=5, random_state=1234)\n"
     ]
    }
   ],
   "source": [
    "kmeans = pickle.load(open('kmeans_model.sav', 'rb'))\n",
    "print(kmeans)"
   ]
  },
  {
   "cell_type": "markdown",
   "id": "383f19ad",
   "metadata": {},
   "source": [
    "#### Load Scaler"
   ]
  },
  {
   "cell_type": "code",
   "execution_count": 7,
   "id": "d4d9b864",
   "metadata": {},
   "outputs": [
    {
     "name": "stdout",
     "output_type": "stream",
     "text": [
      "StandardScaler()\n"
     ]
    }
   ],
   "source": [
    "scaler = pickle.load(open('standard_scaler.sav', 'rb'))\n",
    "print(scaler)"
   ]
  },
  {
   "cell_type": "markdown",
   "id": "608de159",
   "metadata": {},
   "source": [
    "#### Connection to Spotify API"
   ]
  },
  {
   "cell_type": "code",
   "execution_count": 8,
   "id": "529676e3",
   "metadata": {},
   "outputs": [],
   "source": [
    "secrets_file = open(\"C:/Users/lisab/OneDrive/Desktop/DA_labs/Week_6/Spotify_API.txt\")"
   ]
  },
  {
   "cell_type": "code",
   "execution_count": 9,
   "id": "b051f38e",
   "metadata": {},
   "outputs": [],
   "source": [
    "string = secrets_file.read()"
   ]
  },
  {
   "cell_type": "code",
   "execution_count": 10,
   "id": "10f9c873",
   "metadata": {},
   "outputs": [],
   "source": [
    "secrets_dict={}\n",
    "for line in string.split('\\n'):\n",
    "    if len(line) > 0:\n",
    "        secrets_dict[line.split(':')[0]]=line.split(':')[1].strip()"
   ]
  },
  {
   "cell_type": "code",
   "execution_count": 11,
   "id": "ac086fb7",
   "metadata": {},
   "outputs": [],
   "source": [
    "#Initialize SpotiPy with user credentials\n",
    "sp = spotipy.Spotify(auth_manager=SpotifyClientCredentials(client_id=secrets_dict['Client ID'],\n",
    "                                                           client_secret=secrets_dict['Client Secret']))"
   ]
  },
  {
   "cell_type": "markdown",
   "id": "e3069d45",
   "metadata": {},
   "source": [
    "#### Develop else part of SongRecommender Function"
   ]
  },
  {
   "cell_type": "code",
   "execution_count": 14,
   "id": "57b1a87b",
   "metadata": {},
   "outputs": [],
   "source": [
    "song_spotify = sp.search(q='Flowers', limit=1)\n",
    "song_uri = song_spotify['tracks']['items'][0]['uri']\n",
    "song_audio_features = sp.audio_features(song_uri)"
   ]
  },
  {
   "cell_type": "code",
   "execution_count": 15,
   "id": "94692535",
   "metadata": {},
   "outputs": [],
   "source": [
    "song_audio_features"
   ]
  },
  {
   "cell_type": "code",
   "execution_count": 16,
   "id": "e3e097d4",
   "metadata": {},
   "outputs": [],
   "source": [
    "audio_feat_test = pd.DataFrame(song_audio_features)\n",
    "audio_feat_test"
   ]
  },
  {
   "cell_type": "code",
   "execution_count": 17,
   "id": "a7f922d4",
   "metadata": {},
   "outputs": [],
   "source": [
    "audio_feat_df_test = audio_feat_test[['danceability', 'energy', 'key', 'loudness', 'mode', 'speechiness', 'acousticness', \n",
    "                          'instrumentalness', 'liveness', 'valence', 'tempo', 'duration_ms']].copy()\n",
    "audio_feat_df_test"
   ]
  },
  {
   "cell_type": "code",
   "execution_count": 18,
   "id": "d08dea7e",
   "metadata": {},
   "outputs": [],
   "source": [
    "from sklearn.preprocessing import StandardScaler\n",
    "audio_feat_df_prep_test = scaler.transform(audio_feat_df_test)\n",
    "\n",
    "#Now, all features will have the same weight.\n",
    "pd.DataFrame(audio_feat_df_prep_test,columns=audio_feat_df_test.columns).head()"
   ]
  },
  {
   "cell_type": "code",
   "execution_count": 19,
   "id": "a64a198a",
   "metadata": {},
   "outputs": [],
   "source": [
    "#Predicting / assigning the clusters:\n",
    "clusters_test = kmeans.predict(audio_feat_df_prep_test)"
   ]
  },
  {
   "cell_type": "code",
   "execution_count": 20,
   "id": "cdaa4b5f",
   "metadata": {},
   "outputs": [],
   "source": [
    "clusters_test"
   ]
  },
  {
   "cell_type": "code",
   "execution_count": 21,
   "id": "ca7b5fe7",
   "metadata": {},
   "outputs": [],
   "source": [
    "clusters_test[0]"
   ]
  },
  {
   "cell_type": "code",
   "execution_count": 22,
   "id": "5c1ccecf",
   "metadata": {},
   "outputs": [],
   "source": [
    "#take clustered_songs dataframe and search for a song with the same number as clusters_test\n",
    "clustered_songs_input_cluster = clustered_songs[clustered_songs['cluster'] == clusters_test[0]]\n",
    "clustered_songs_input_cluster"
   ]
  },
  {
   "cell_type": "code",
   "execution_count": 23,
   "id": "b5648761",
   "metadata": {},
   "outputs": [],
   "source": [
    "random_song_test = clustered_songs_input_cluster['title'][random.randint(0, len(clustered_songs_input_cluster)-1)]\n",
    "random_artist_test = clustered_songs_input_cluster.loc[clustered_songs_input_cluster.title == random_song_test, 'artists'].values[0]"
   ]
  },
  {
   "cell_type": "code",
   "execution_count": 24,
   "id": "3deaa5df",
   "metadata": {},
   "outputs": [],
   "source": [
    "random_song_test"
   ]
  },
  {
   "cell_type": "code",
   "execution_count": 25,
   "id": "13ac05c7",
   "metadata": {},
   "outputs": [],
   "source": [
    "random_artist_test"
   ]
  },
  {
   "cell_type": "code",
   "execution_count": 26,
   "id": "c4ecf1e9",
   "metadata": {},
   "outputs": [],
   "source": [
    "type(random_artist_test)"
   ]
  },
  {
   "cell_type": "code",
   "execution_count": 127,
   "id": "1da0366f",
   "metadata": {},
   "outputs": [],
   "source": [
    "def getArtists(artist_list):\n",
    "    #convert string containing list to list\n",
    "    artist_list = ast.literal_eval(artist_list)\n",
    "    if len(artist_list) > 1:\n",
    "        artists = '0'\n",
    "        for artist in artist_list:\n",
    "            artists = artists+', '+artist\n",
    "            artists = artists.replace('0', '')\n",
    "    else:\n",
    "        artists = artist_list[0]\n",
    "    return artists"
   ]
  },
  {
   "cell_type": "code",
   "execution_count": 28,
   "id": "b5496c44",
   "metadata": {},
   "outputs": [],
   "source": [
    "getArtists(random_artist_test)"
   ]
  },
  {
   "cell_type": "markdown",
   "id": "39187e01",
   "metadata": {},
   "source": [
    "#### SongRecommender Function"
   ]
  },
  {
   "cell_type": "code",
   "execution_count": 138,
   "id": "fe969964",
   "metadata": {},
   "outputs": [],
   "source": [
    "def checkSongAndRecommend():\n",
    "    song_input = input(\"Enter your favorite song: \")\n",
    "    artist_input = input(\"Enter the artist: \")\n",
    "    \n",
    "    #lowercase song input and hot100songs title column\n",
    "    song_input_lower = song_input.lower()\n",
    "    hot100songs['title_lower'] = hot100songs['title'].str.lower()\n",
    "    \n",
    "    #Checking if song title is in top100\n",
    "    if len(hot100songs[hot100songs.title_lower.str.contains(song_input_lower)]) > 0:\n",
    "        random_song = hot100songs['title'][random.randint(0, len(hot100songs)-1)]\n",
    "        random_artist = hot100songs.loc[hot100songs.title == random_song, 'artists'].values[0]\n",
    "        \n",
    "        return 'Look at this new hot song: '+random_song+' from '+random_artist\n",
    "    \n",
    "    #If song is not in top100 list:\n",
    "    else:\n",
    "        #Search uri for input song on spotify\n",
    "        #song_spotify = sp.search(q=song_input, limit=1)\n",
    "        song_spotify = sp.search(q=song_input+' '+artist_input, limit=1)\n",
    "        song_uri = song_spotify['tracks']['items'][0]['uri']\n",
    "        \n",
    "        #Collect audio features for input song\n",
    "        song_audio_features = sp.audio_features(song_uri)\n",
    "        audio_feat_df = pd.DataFrame(song_audio_features)\n",
    "        audio_feat_df_corr = audio_feat_df[['danceability', 'energy', 'key', 'loudness', 'mode', 'speechiness', 'acousticness', \n",
    "                          'instrumentalness', 'liveness', 'valence', 'tempo', 'duration_ms']].copy()\n",
    "        \n",
    "        #Scale audio feature columns\n",
    "        audio_feat_df_corr_prep = scaler.transform(audio_feat_df_corr)\n",
    "        \n",
    "        # Predicting / assigning the clusters:\n",
    "        clusters = kmeans.predict(audio_feat_df_corr_prep)\n",
    "        \n",
    "        #take clustered_songs dataframe and search for a song & artist with the same number as clusters result\n",
    "        clustered_songs_input_cluster = clustered_songs[clustered_songs['cluster'] == clusters[0]].reset_index()\n",
    "        random_song_output = clustered_songs_input_cluster['title'][random.randint(0, len(clustered_songs_input_cluster['title'])-1)]\n",
    "        random_artist_output = clustered_songs_input_cluster.loc[clustered_songs_input_cluster.title == random_song_output, \n",
    "                                'artists'].values[0]\n",
    "        random_artist_output = getArtists(random_artist_output)\n",
    "        \n",
    "        return 'Found a similar song: '+random_song_output+' from '+random_artist_output"
   ]
  },
  {
   "cell_type": "code",
   "execution_count": null,
   "id": "3ef5c431",
   "metadata": {},
   "outputs": [],
   "source": [
    "#Former checkSongAndRecommend function:\n",
    "#def checkSongAndRecommend():\n",
    "#    song_input = input(\"Enter your favorite song: \")\n",
    "#    song_input_lower = song_input.lower()\n",
    "#    #Checking if song title is in top100\n",
    "#    if song_input_lower in [x.lower() for x in hot100songs['title'].unique()]:\n",
    "#        random_song = hot100songs['title'][random.randint(0, len(hot100songs)-1)]\n",
    "#        random_artist = hot100songs.loc[hot100songs.title == random_song, 'artists'].values[0]\n",
    "#        return 'Look at this new hot song: '+random_song+' from '+random_artist\n",
    "    #If song is not in top100 list:\n",
    "#    else:\n",
    "        #Search uri for input song on spotify\n",
    "#        song_spotify = sp.search(q=song_input, limit=1)\n",
    "#        song_uri = song_spotify['tracks']['items'][0]['uri']\n",
    "        #Collect audio features for input song\n",
    " #       song_audio_features = sp.audio_features(song_uri)\n",
    " #       audio_feat_df = pd.DataFrame(song_audio_features)\n",
    " #       audio_feat_df_corr = audio_feat_df[['danceability', 'energy', 'key', 'loudness', 'mode', 'speechiness', 'acousticness', \n",
    " #                         'instrumentalness', 'liveness', 'valence', 'tempo', 'duration_ms']].copy()\n",
    "        #Scale audio feature columns\n",
    " #       audio_feat_df_corr_prep = scaler.transform(audio_feat_df_corr)\n",
    "        # Predicting / assigning the clusters:\n",
    " #       clusters = kmeans.predict(audio_feat_df_corr_prep)\n",
    "        #take clustered_songs dataframe and search for a song with the same number as clusters_test\n",
    " #       clustered_songs_input_cluster = clustered_songs[clustered_songs['cluster'] == clusters[0]].reset_index()\n",
    "        #print('clustered songs: ', clustered_songs_input_cluster)\n",
    " #       random_song_output = clustered_songs_input_cluster['title'][random.randint(0, len(clustered_songs_input_cluster['title'])-1)]\n",
    "        #print('Random song: ', random_song_output)\n",
    " #       random_artist_output = clustered_songs_input_cluster.loc[clustered_songs_input_cluster.title == random_song_output, \n",
    "#                                'artists'].values[0]\n",
    " #       random_artist_output = getArtists(random_artist_output)\n",
    " #       return 'Found a similar song: '+random_song_output+' from '+random_artist_output"
   ]
  },
  {
   "cell_type": "markdown",
   "id": "26b3ee90",
   "metadata": {},
   "source": [
    "#### Test the complete function"
   ]
  },
  {
   "cell_type": "code",
   "execution_count": 32,
   "id": "c0ca59bb",
   "metadata": {},
   "outputs": [
    {
     "name": "stdout",
     "output_type": "stream",
     "text": [
      "Enter your favorite song: Flowers\n"
     ]
    },
    {
     "data": {
      "text/plain": [
       "'Look at this new hot song: Alone from Jimin'"
      ]
     },
     "execution_count": 32,
     "metadata": {},
     "output_type": "execute_result"
    }
   ],
   "source": [
    "checkSongAndRecommend()"
   ]
  },
  {
   "cell_type": "code",
   "execution_count": 140,
   "id": "f71737c8",
   "metadata": {},
   "outputs": [
    {
     "name": "stdout",
     "output_type": "stream",
     "text": [
      "Enter your favorite song: toxic\n",
      "Enter the artist: Britney Spears\n"
     ]
    },
    {
     "data": {
      "text/plain": [
       "'Found a similar song: Frozen - Extended Club Mix Edit from Madonna'"
      ]
     },
     "execution_count": 140,
     "metadata": {},
     "output_type": "execute_result"
    }
   ],
   "source": [
    "checkSongAndRecommend()"
   ]
  },
  {
   "cell_type": "code",
   "execution_count": null,
   "id": "2a561aad",
   "metadata": {},
   "outputs": [],
   "source": []
  },
  {
   "cell_type": "code",
   "execution_count": null,
   "id": "83ea0e3b",
   "metadata": {},
   "outputs": [],
   "source": []
  }
 ],
 "metadata": {
  "kernelspec": {
   "display_name": "Python 3 (ipykernel)",
   "language": "python",
   "name": "python3"
  },
  "language_info": {
   "codemirror_mode": {
    "name": "ipython",
    "version": 3
   },
   "file_extension": ".py",
   "mimetype": "text/x-python",
   "name": "python",
   "nbconvert_exporter": "python",
   "pygments_lexer": "ipython3",
   "version": "3.9.13"
  }
 },
 "nbformat": 4,
 "nbformat_minor": 5
}
